{
 "cells": [
  {
   "cell_type": "code",
   "execution_count": 13,
   "metadata": {
    "executionInfo": {
     "elapsed": 221,
     "status": "ok",
     "timestamp": 1695481195009,
     "user": {
      "displayName": "Nicholas Sanso",
      "userId": "13930386881101759997"
     },
     "user_tz": 240
    },
    "id": "eMppUApc3hrd"
   },
   "outputs": [],
   "source": [
    "import os\n",
    "import shutil\n",
    "import random\n",
    "from PIL import Image"
   ]
  },
  {
   "cell_type": "code",
   "execution_count": 1,
   "metadata": {
    "colab": {
     "base_uri": "https://localhost:8080/"
    },
    "executionInfo": {
     "elapsed": 17253,
     "status": "ok",
     "timestamp": 1695480890859,
     "user": {
      "displayName": "Nicholas Sanso",
      "userId": "13930386881101759997"
     },
     "user_tz": 240
    },
    "id": "5g-Qjagl3jNt",
    "outputId": "bb6ce4e0-8b27-4a82-bbef-5eb3ea7761bd"
   },
   "outputs": [
    {
     "name": "stdout",
     "output_type": "stream",
     "text": [
      "Mounted at /content/drive\n"
     ]
    }
   ],
   "source": [
    "from google.colab import drive\n",
    "drive.mount('/content/drive')"
   ]
  },
  {
   "cell_type": "code",
   "execution_count": 2,
   "metadata": {
    "colab": {
     "base_uri": "https://localhost:8080/"
    },
    "executionInfo": {
     "elapsed": 7,
     "status": "ok",
     "timestamp": 1695480890859,
     "user": {
      "displayName": "Nicholas Sanso",
      "userId": "13930386881101759997"
     },
     "user_tz": 240
    },
    "id": "E8tDgwTI3jVU",
    "outputId": "22abfc52-9cdf-4976-a879-d3ba16e5b7bc"
   },
   "outputs": [
    {
     "name": "stdout",
     "output_type": "stream",
     "text": [
      "/content/drive/MyDrive/Capstone\n"
     ]
    }
   ],
   "source": [
    "%cd /content/drive/MyDrive/Capstone/"
   ]
  },
  {
   "cell_type": "code",
   "execution_count": 3,
   "metadata": {
    "executionInfo": {
     "elapsed": 4,
     "status": "ok",
     "timestamp": 1695480890860,
     "user": {
      "displayName": "Nicholas Sanso",
      "userId": "13930386881101759997"
     },
     "user_tz": 240
    },
    "id": "L-g3jqRi3rOA"
   },
   "outputs": [],
   "source": [
    "def rotations(base_directory, rotated_not_flipped, class_dir, additional_images):\n",
    "    #get the count of images in the directory\n",
    "    count = len([name for name in os.listdir(os.path.join(base_directory, class_dir)) if name.endswith('.png')])\n",
    "\n",
    "    directory = os.path.join(base_directory, class_dir)\n",
    "    new_directory = os.path.join(rotated_not_flipped, class_dir)\n",
    "\n",
    "    #create the new directory if it doesn't exist\n",
    "    if not os.path.exists(new_directory):\n",
    "        os.makedirs(new_directory)\n",
    "\n",
    "    #get a list of all .png images in the directory\n",
    "    images = [fn for fn in os.listdir(directory) if fn.endswith('.png')]\n",
    "\n",
    "    #copy all original images to the new directory\n",
    "    for picture in images:\n",
    "        shutil.copy(os.path.join(directory, picture), os.path.join(new_directory, picture))\n",
    "\n",
    "    #randomly select images to rotate until we reach the desired count\n",
    "    for i in range(additional_images):\n",
    "        image_name = random.choice(images)\n",
    "\n",
    "        #open the image file\n",
    "        img = Image.open(os.path.join(directory, image_name))\n",
    "\n",
    "        #rotate the image by a random degree between 0 and 90\n",
    "        rotation_degree = random.uniform(0, 90)\n",
    "        img_rotated = img.rotate(rotation_degree)\n",
    "\n",
    "        #save the rotated image with a new name in the new directory\n",
    "        base_name, ext = os.path.splitext(image_name)\n",
    "        new_image_name = f'{base_name}_rotated_{count+i}{ext}'\n",
    "        img_rotated.save(os.path.join(new_directory, new_image_name))\n",
    "\n",
    "#your main directory and new base directory\n",
    "base_directory = '/content/drive/My Drive/Capstone/pictures_grouped'\n",
    "rotated_not_flipped = '/content/drive/My Drive/Capstone/rotated_not_flipped'"
   ]
  },
  {
   "cell_type": "code",
   "execution_count": 14,
   "metadata": {
    "executionInfo": {
     "elapsed": 312313,
     "status": "ok",
     "timestamp": 1695481518228,
     "user": {
      "displayName": "Nicholas Sanso",
      "userId": "13930386881101759997"
     },
     "user_tz": 240
    },
    "id": "nF9NLJs249MN"
   },
   "outputs": [],
   "source": [
    "#define your dictionary\n",
    "classes_rotations = {\n",
    "    '5_and_Under': 100,\n",
    "    '6_to_18': 600,\n",
    "    '18_to_24': 900,\n",
    "    '25_to_34': 900,\n",
    "    '35_to_44': 858,\n",
    "    '45_to_54': 910,\n",
    "    '55_to_64': 738,\n",
    "    '65_and_older': 1000\n",
    "}\n",
    "\n",
    "#loop over the dictionary and call your function for each class\n",
    "for classes_rotations, additional_images in classes_rotations.items():\n",
    "    rotations(base_directory, rotated_not_flipped, classes_rotations, additional_images)\n"
   ]
  },
  {
   "cell_type": "code",
   "execution_count": 15,
   "metadata": {
    "colab": {
     "base_uri": "https://localhost:8080/"
    },
    "executionInfo": {
     "elapsed": 262,
     "status": "ok",
     "timestamp": 1695481518487,
     "user": {
      "displayName": "Nicholas Sanso",
      "userId": "13930386881101759997"
     },
     "user_tz": 240
    },
    "id": "uj8XWUBF5hyL",
    "outputId": "1da471a7-14ca-44b5-8ef9-d6dac3a2039e"
   },
   "outputs": [
    {
     "name": "stdout",
     "output_type": "stream",
     "text": [
      "5_and_Under: 2411 images\n",
      "6_to_18: 2214 images\n",
      "18_to_24: 1800 images\n",
      "25_to_34: 2236 images\n",
      "35_to_44: 1716 images\n",
      "45_to_54: 1820 images\n",
      "55_to_64: 1476 images\n",
      "65_and_older: 2111 images\n"
     ]
    }
   ],
   "source": [
    "#count the number of images in each subdirectory:\n",
    "    #get a list of all subdirectories in the parent directory\n",
    "    subdirs = [d for d in os.listdir(parent_dir) if os.path.isdir(os.path.join(parent_dir, d))]\n",
    "\n",
    "    for subdir in subdirs:\n",
    "        subdir_path = os.path.join(parent_dir, subdir)\n",
    "        #get a list of all image files in the subdirectory\n",
    "        image_files = [f for f in os.listdir(subdir_path) if f.endswith(('.png'))]\n",
    "        #print the number of images\n",
    "        print(f\"{subdir}: {len(image_files)} images\")\n",
    "\n",
    "count_images_in_subdirs('/content/drive/MyDrive/Capstone/rotated_not_flipped')\n"
   ]
  }
 ],
 "metadata": {
  "accelerator": "GPU",
  "colab": {
   "authorship_tag": "ABX9TyPgj6+nhGGBxXPOslSMKhW5",
   "gpuType": "V100",
   "provenance": []
  },
  "kernelspec": {
   "display_name": "Python 3 (ipykernel)",
   "language": "python",
   "name": "python3"
  },
  "language_info": {
   "codemirror_mode": {
    "name": "ipython",
    "version": 3
   },
   "file_extension": ".py",
   "mimetype": "text/x-python",
   "name": "python",
   "nbconvert_exporter": "python",
   "pygments_lexer": "ipython3",
   "version": "3.8.16"
  }
 },
 "nbformat": 4,
 "nbformat_minor": 4
}
