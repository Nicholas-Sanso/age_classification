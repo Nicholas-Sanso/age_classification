{
 "cells": [
  {
   "cell_type": "code",
   "execution_count": 1,
   "metadata": {
    "executionInfo": {
     "elapsed": 3526,
     "status": "ok",
     "timestamp": 1695489807336,
     "user": {
      "displayName": "Nicholas Sanso",
      "userId": "13930386881101759997"
     },
     "user_tz": 240
    },
    "id": "5m7S3i0l8D38"
   },
   "outputs": [],
   "source": [
    "import os\n",
    "import shutil\n",
    "import random\n",
    "import tensorflow as tf"
   ]
  },
  {
   "cell_type": "code",
   "execution_count": 2,
   "metadata": {
    "colab": {
     "base_uri": "https://localhost:8080/"
    },
    "executionInfo": {
     "elapsed": 16243,
     "status": "ok",
     "timestamp": 1695489823573,
     "user": {
      "displayName": "Nicholas Sanso",
      "userId": "13930386881101759997"
     },
     "user_tz": 240
    },
    "id": "qcMlpPjT8FmU",
    "outputId": "18c794d5-ce38-419a-a411-4f1a48147e23"
   },
   "outputs": [
    {
     "name": "stdout",
     "output_type": "stream",
     "text": [
      "Mounted at /content/drive\n"
     ]
    }
   ],
   "source": [
    "from google.colab import drive\n",
    "drive.mount(\"/content/drive\", force_remount=True)"
   ]
  },
  {
   "cell_type": "code",
   "execution_count": 3,
   "metadata": {
    "executionInfo": {
     "elapsed": 238,
     "status": "ok",
     "timestamp": 1695489837894,
     "user": {
      "displayName": "Nicholas Sanso",
      "userId": "13930386881101759997"
     },
     "user_tz": 240
    },
    "id": "FLoldDzy8II8"
   },
   "outputs": [],
   "source": [
    "def flip_images_in_folder(base_directory, rotated_not_flipped, num_images_to_flip_dict):\n",
    "    #get a list of all subdirectories in the folder\n",
    "    subdirs = [d for d in os.listdir(base_directory) if os.path.isdir(os.path.join(base_directory, d))]\n",
    "\n",
    "    for subdir in subdirs:\n",
    "        subdir_path = os.path.join(base_directory, subdir)\n",
    "        output_subdir_path = os.path.join(rotated_not_flipped, subdir)\n",
    "        #create the output subdirectory if it doesn't exist\n",
    "        if not os.path.exists(output_subdir_path):\n",
    "            os.makedirs(output_subdir_path)\n",
    "        #get a list of all image file names in the subdirectory\n",
    "        image_files = os.listdir(subdir_path)\n",
    "\n",
    "        #copy all images to output directory\n",
    "        for img_file in image_files:\n",
    "            shutil.copy(os.path.join(subdir_path, img_file), os.path.join(output_subdir_path, img_file))\n",
    "\n",
    "        #randomlly select a subset of images to flip\n",
    "        num_images_to_flip = num_images_to_flip_dict.get(subdir, 0)  # Use a default of 0 if the subdir is not in the dict\n",
    "        images_to_flip = random.sample(image_files, min(num_images_to_flip, len(image_files)))  # Don't try to flip more images than exist\n",
    "\n",
    "        for img_file in images_to_flip:\n",
    "            try:\n",
    "                #read the image file\n",
    "                img = tf.keras.preprocessing.image.load_img(os.path.join(subdir_path, img_file))\n",
    "                #convert PIL Image to numpy array\n",
    "                img_array = tf.keras.preprocessing.image.img_to_array(img)\n",
    "                #flip the image horizontally\n",
    "                flipped_img = tf.image.flip_left_right(img_array)\n",
    "                #convert Numpy array to PIL Image\n",
    "                flipped_img_pil = tf.keras.preprocessing.image.array_to_img(flipped_img)\n",
    "                #save the flipped image to the output directory with '_flipped' added to the end of the filename\n",
    "                flipped_img_pil.save(os.path.join(output_subdir_path, os.path.splitext(img_file)[0] + '_flipped' + os.path.splitext(img_file)[1]))\n",
    "            except Exception as e:\n",
    "                print(f\"Error processing file {img_file}: {e}\")"
   ]
  },
  {
   "cell_type": "code",
   "execution_count": 4,
   "metadata": {
    "executionInfo": {
     "elapsed": 593344,
     "status": "ok",
     "timestamp": 1695490948663,
     "user": {
      "displayName": "Nicholas Sanso",
      "userId": "13930386881101759997"
     },
     "user_tz": 240
    },
    "id": "PedhZzrw8Lzj"
   },
   "outputs": [],
   "source": [
    "#specify the number of flips for each subdirectory\n",
    "num_images_to_flip_dict = {\n",
    "    '5_and_Under': 500,\n",
    "    '6_to_18': 697,\n",
    "    '18_to_24': 1111,\n",
    "    '25_to_34': 675,\n",
    "    '35_to_44': 1195,\n",
    "    '45_to_54': 1091,\n",
    "    '55_to_64': 1435,\n",
    "    '65_and_older': 800\n",
    "}\n",
    "\n",
    "base_directory= '/content/drive/MyDrive/Capstone/rotated_not_flipped'\n",
    "rotated_not_flipped= '/content/drive/MyDrive/Capstone/rotated_and_flipped'\n",
    "\n",
    "flip_images_in_folder(base_directory, rotated_not_flipped, num_images_to_flip_dict)"
   ]
  },
  {
   "cell_type": "code",
   "execution_count": 5,
   "metadata": {
    "colab": {
     "base_uri": "https://localhost:8080/"
    },
    "executionInfo": {
     "elapsed": 618,
     "status": "ok",
     "timestamp": 1695491290910,
     "user": {
      "displayName": "Nicholas Sanso",
      "userId": "13930386881101759997"
     },
     "user_tz": 240
    },
    "id": "l21X05ex8Mkp",
    "outputId": "654be43e-9b6c-449a-9cee-63d91f5c7a94"
   },
   "outputs": [
    {
     "name": "stdout",
     "output_type": "stream",
     "text": [
      "5_and_Under: 2911 images\n",
      "6_to_18: 2911 images\n",
      "18_to_24: 2911 images\n",
      "25_to_34: 2911 images\n",
      "35_to_44: 2911 images\n",
      "45_to_54: 2911 images\n",
      "55_to_64: 2911 images\n",
      "65_and_older: 2911 images\n"
     ]
    }
   ],
   "source": [
    "#count the number of images in each directory\n",
    "def count_images_in_subdirs(parent_dir):\n",
    "    #get a list of all subdirectories in the parent directory\n",
    "    subdirs = [d for d in os.listdir(parent_dir) if os.path.isdir(os.path.join(parent_dir, d))]\n",
    "\n",
    "    for subdir in subdirs:\n",
    "        subdir_path = os.path.join(parent_dir, subdir)\n",
    "        #get a list of all image files in the subdirectory\n",
    "        image_files = [f for f in os.listdir(subdir_path) if f.endswith(('.png'))]\n",
    "        print(f\"{subdir}: {len(image_files)} images\")\n",
    "\n",
    "count_images_in_subdirs('/content/drive/MyDrive/Capstone/rotated_and_flipped')"
   ]
  }
 ],
 "metadata": {
  "accelerator": "GPU",
  "colab": {
   "authorship_tag": "ABX9TyPLJAJnPImgrWhJxI0uSC4A",
   "gpuType": "V100",
   "provenance": []
  },
  "kernelspec": {
   "display_name": "Python 3 (ipykernel)",
   "language": "python",
   "name": "python3"
  },
  "language_info": {
   "codemirror_mode": {
    "name": "ipython",
    "version": 3
   },
   "file_extension": ".py",
   "mimetype": "text/x-python",
   "name": "python",
   "nbconvert_exporter": "python",
   "pygments_lexer": "ipython3",
   "version": "3.8.16"
  }
 },
 "nbformat": 4,
 "nbformat_minor": 4
}
