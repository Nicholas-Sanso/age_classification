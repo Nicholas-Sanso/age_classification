{
 "cells": [
  {
   "cell_type": "code",
   "execution_count": 3,
   "metadata": {
    "executionInfo": {
     "elapsed": 558,
     "status": "ok",
     "timestamp": 1695391865114,
     "user": {
      "displayName": "Nicholas Sanso",
      "userId": "13930386881101759997"
     },
     "user_tz": 240
    },
    "id": "r95wC6UtnBea"
   },
   "outputs": [],
   "source": [
    "import os\n",
    "import shutil"
   ]
  },
  {
   "cell_type": "code",
   "execution_count": 4,
   "metadata": {
    "colab": {
     "base_uri": "https://localhost:8080/"
    },
    "executionInfo": {
     "elapsed": 19039,
     "status": "ok",
     "timestamp": 1695391884503,
     "user": {
      "displayName": "Nicholas Sanso",
      "userId": "13930386881101759997"
     },
     "user_tz": 240
    },
    "id": "BxURQ3jIm4BZ",
    "outputId": "eb5abab8-d9c1-41cc-ba14-d600ef038593"
   },
   "outputs": [
    {
     "name": "stdout",
     "output_type": "stream",
     "text": [
      "Mounted at /content/drive\n"
     ]
    }
   ],
   "source": [
    "from google.colab import drive\n",
    "drive.mount('/content/drive')"
   ]
  },
  {
   "cell_type": "code",
   "execution_count": 5,
   "metadata": {
    "colab": {
     "base_uri": "https://localhost:8080/"
    },
    "executionInfo": {
     "elapsed": 5,
     "status": "ok",
     "timestamp": 1695391884504,
     "user": {
      "displayName": "Nicholas Sanso",
      "userId": "13930386881101759997"
     },
     "user_tz": 240
    },
    "id": "tQg-T-RknBxt",
    "outputId": "6df077ca-8656-4977-ceb5-12832dd4f3bf"
   },
   "outputs": [
    {
     "name": "stdout",
     "output_type": "stream",
     "text": [
      "/content/drive/MyDrive/Capstone\n"
     ]
    }
   ],
   "source": [
    "%cd /content/drive/MyDrive/Capstone/"
   ]
  },
  {
   "cell_type": "code",
   "execution_count": 6,
   "metadata": {
    "executionInfo": {
     "elapsed": 336,
     "status": "ok",
     "timestamp": 1695391893941,
     "user": {
      "displayName": "Nicholas Sanso",
      "userId": "13930386881101759997"
     },
     "user_tz": 240
    },
    "id": "WzNSc0gxnMOx"
   },
   "outputs": [],
   "source": [
    "#function to group age directories which map to individual ages into directories that match groups of ages\n",
    "\n",
    "def get_group(directory_name):\n",
    "    #convert directory name to an integer, works because all subdirectory folders contain characters that are strings that can be converted to integers\n",
    "    number = int(directory_name)\n",
    "\n",
    "    if number <= 5:\n",
    "        return '5_and_Under'\n",
    "    elif number <= 17 and number >= 6:\n",
    "        return '6_to_18'\n",
    "    elif number <= 24 and number >= 18:\n",
    "        return '18_to_24'\n",
    "    elif number <= 34 and number >= 25:\n",
    "        return '25_to_34'\n",
    "    elif number <= 44 and number >= 35:\n",
    "        return '35_to_44'\n",
    "    elif number <= 54 and number >= 45:\n",
    "        return '45_to_54'\n",
    "    elif number <= 64 and number >= 55:\n",
    "        return '55_to_64'\n",
    "    else:\n",
    "        return '65_and_older'\n"
   ]
  },
  {
   "cell_type": "code",
   "execution_count": 7,
   "metadata": {
    "executionInfo": {
     "elapsed": 2547302,
     "status": "ok",
     "timestamp": 1695394444119,
     "user": {
      "displayName": "Nicholas Sanso",
      "userId": "13930386881101759997"
     },
     "user_tz": 240
    },
    "id": "GYUgc2-N4cAy"
   },
   "outputs": [],
   "source": [
    "base_path = '/content/drive/MyDrive/Capstone/full_data_set/full_data_set'\n",
    "new_base_path = '/content/drive/MyDrive/Capstone/pictures_grouped'\n",
    "directories_to_group = next(os.walk(base_path))[1]\n",
    "\n",
    "for directory in directories_to_group:\n",
    "    group = get_group(directory)\n",
    "    old_dir_path = os.path.join(base_path, directory)\n",
    "    new_dir_path = os.path.join(new_base_path, group)\n",
    "\n",
    "    #create the new directory if it doesn't exist\n",
    "    if not os.path.exists(new_dir_path):\n",
    "        os.makedirs(new_dir_path)\n",
    "\n",
    "    #loop over files in the old directory\n",
    "    for filename in os.listdir(old_dir_path):\n",
    "        old_file_path = os.path.join(old_dir_path, filename)\n",
    "        new_file_path = os.path.join(new_dir_path, filename)\n",
    "\n",
    "        # Copy the file to the new location\n",
    "        shutil.copy(old_file_path, new_file_path)\n"
   ]
  },
  {
   "cell_type": "code",
   "execution_count": 9,
   "metadata": {
    "executionInfo": {
     "elapsed": 10,
     "status": "ok",
     "timestamp": 1695394444120,
     "user": {
      "displayName": "Nicholas Sanso",
      "userId": "13930386881101759997"
     },
     "user_tz": 240
    },
    "id": "JyssDje4no3h"
   },
   "outputs": [],
   "source": [
    "def count_png_files(directory):\n",
    "    counts = {}\n",
    "\n",
    "    #loop over subdirectories\n",
    "    for subdir in os.listdir(directory):\n",
    "        # path to subdirectory\n",
    "        full_path = os.path.join(directory, subdir)\n",
    "\n",
    "        #check if it's a directory\n",
    "        if os.path.isdir(full_path):\n",
    "            #initialize count for this subdirectory\n",
    "            counts[subdir] = 0\n",
    "\n",
    "            #loop over files in subdirectory\n",
    "            for filename in os.listdir(full_path):\n",
    "                #check if file is a .png image\n",
    "                if filename.endswith(\".png\"):\n",
    "                    counts[subdir] += 1\n",
    "\n",
    "    for subdir, count in counts.items():\n",
    "        print(f\"{subdir}: {count} .png images\")"
   ]
  },
  {
   "cell_type": "code",
   "execution_count": 13,
   "metadata": {
    "colab": {
     "base_uri": "https://localhost:8080/"
    },
    "executionInfo": {
     "elapsed": 307,
     "status": "ok",
     "timestamp": 1695395426195,
     "user": {
      "displayName": "Nicholas Sanso",
      "userId": "13930386881101759997"
     },
     "user_tz": 240
    },
    "id": "_t1pXMHG2fSY",
    "outputId": "607c728e-2532-46f9-bf21-99341b027a43"
   },
   "outputs": [
    {
     "name": "stdout",
     "output_type": "stream",
     "text": [
      "65_and_older: 1111 .png images\n",
      "35_to_44: 858 .png images\n",
      "6_to_18: 1614 .png images\n",
      "18_to_24: 900 .png images\n",
      "45_to_54: 910 .png images\n",
      "25_to_34: 1336 .png images\n",
      "55_to_64: 738 .png images\n",
      "5_and_Under: 2311 .png images\n"
     ]
    }
   ],
   "source": [
    "#count the png files inside of pictures grouped\n",
    "\n",
    "parent_dir_pictures_grouped = '/content/drive/MyDrive/Capstone/pictures_grouped'\n",
    "count_png_files(parent_dir_pictures_grouped)"
   ]
  }
 ],
 "metadata": {
  "accelerator": "GPU",
  "colab": {
   "authorship_tag": "ABX9TyORyW+irKgjiD+cTZMBilKj",
   "gpuType": "T4",
   "provenance": []
  },
  "kernelspec": {
   "display_name": "Python 3 (ipykernel)",
   "language": "python",
   "name": "python3"
  },
  "language_info": {
   "codemirror_mode": {
    "name": "ipython",
    "version": 3
   },
   "file_extension": ".py",
   "mimetype": "text/x-python",
   "name": "python",
   "nbconvert_exporter": "python",
   "pygments_lexer": "ipython3",
   "version": "3.8.16"
  }
 },
 "nbformat": 4,
 "nbformat_minor": 4
}
