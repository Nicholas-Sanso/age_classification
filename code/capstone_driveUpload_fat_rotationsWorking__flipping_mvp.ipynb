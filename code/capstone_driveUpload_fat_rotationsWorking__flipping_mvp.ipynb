{
  "cells": [
    {
      "cell_type": "code",
      "execution_count": 3,
      "metadata": {
        "id": "JN5kgpZDyRN-"
      },
      "outputs": [],
      "source": [
        "# import requisite libraries\n",
        "import pandas as pd\n",
        "import numpy as np\n",
        "import os\n",
        "import cv2\n",
        "import random\n",
        "import tensorflow as tf\n",
        "from tensorflow.keras.preprocessing.image import ImageDataGenerator\n",
        "from tensorflow.keras.utils import image_dataset_from_directory, load_img, img_to_array\n",
        "from tensorflow.keras.models import Sequential\n",
        "from tensorflow.keras.layers import Dense, Dropout, Flatten, Conv2D, MaxPooling2D, Rescaling, Resizing\n",
        "from PIL import Image\n",
        "import csv\n",
        "import random\n",
        "import shutil\n"
      ]
    },
    {
      "cell_type": "code",
      "execution_count": 4,
      "metadata": {
        "colab": {
          "base_uri": "https://localhost:8080/"
        },
        "id": "Z3bVoCxryWqA",
        "outputId": "389e0d1e-15f1-4ef9-c882-9b18b448a2c8"
      },
      "outputs": [
        {
          "name": "stdout",
          "output_type": "stream",
          "text": [
            "Mounted at /content/drive\n"
          ]
        }
      ],
      "source": [
        "from google.colab import drive\n",
        "drive.mount('/content/drive')\n"
      ]
    },
    {
      "cell_type": "code",
      "execution_count": 15,
      "metadata": {
        "colab": {
          "base_uri": "https://localhost:8080/"
        },
        "id": "1rt53aY60Gec",
        "outputId": "0352bd55-5b33-418b-8075-c26f393c4241"
      },
      "outputs": [
        {
          "name": "stdout",
          "output_type": "stream",
          "text": [
            "/content/drive/MyDrive/Capstone\n"
          ]
        }
      ],
      "source": [
        "%cd /content/drive/MyDrive/Capstone/\n"
      ]
    },
    {
      "cell_type": "code",
      "execution_count": 7,
      "metadata": {
        "id": "-YHvP1DQ0U7_"
      },
      "outputs": [],
      "source": [
        "\"#ensure file is a \".png\" image and import it.\n",
        "dir_path = '/content/drive/My Drive/Capstone/pictures_grouped'\n",
        "for filename in os.listdir(dir_path):\n",
        "    if filename.endswith(\".png\"): # check if file is an image\n",
        "        img_path = os.path.join(dir_path, filename)\n",
        "        img = Image.open(img_path)\n"
      ]
    },
    {
      "cell_type": "code",
      "execution_count": 8,
      "metadata": {
        "colab": {
          "base_uri": "https://localhost:8080/"
        },
        "id": "BExGyxe309Dq",
        "outputId": "4030c972-8320-4901-d653-fe15375497fe"
      },
      "outputs": [
        {
          "name": "stdout",
          "output_type": "stream",
          "text": [
            "/content/drive/My Drive/Capstone\n"
          ]
        }
      ],
      "source": [
        "print(os.getcwd())\n"
      ]
    },
    {
      "cell_type": "code",
      "execution_count": 9,
      "metadata": {
        "colab": {
          "base_uri": "https://localhost:8080/"
        },
        "id": "OwxFf4uy13Lm",
        "outputId": "091bf3a8-4595-413f-930b-0922cd3664ec"
      },
      "outputs": [
        {
          "name": "stdout",
          "output_type": "stream",
          "text": [
            "There are 0 images in pictures_grouped\n",
            "There are 1615 images in pictures_grouped/6_to_18\n",
            "There are 1111 images in pictures_grouped/65_and_older\n",
            "There are 900 images in pictures_grouped/18_to_24\n",
            "There are 910 images in pictures_grouped/45_to_54\n",
            "There are 858 images in pictures_grouped/35_to_44\n",
            "There are 1336 images in pictures_grouped/25_to_34\n",
            "There are 738 images in pictures_grouped/55_to_64\n",
            "There are 2312 images in pictures_grouped/5_and_Under\n"
          ]
        }
      ],
      "source": [
        "# Count the number of image sin each subdiretory this way you know how many you need to add to each class to balance\n",
        "your_directory = 'pictures_grouped'\n",
        "\n",
        "# iterate over all the directories and subdirectories\n",
        "for dirpath, dirnames, filenames in os.walk(your_directory):\n",
        "    # count .png files\n",
        "    images = [fn for fn in filenames if fn.endswith(('.png'))]\n",
        "    print(f'There are {len(images)} images in {dirpath}')\n"
      ]
    },
    {
      "cell_type": "code",
      "execution_count": 10,
      "metadata": {
        "id": "s8qezMmVSDPD"
      },
      "outputs": [],
      "source": [
        "def balance_class(base_directory, mvp_rotated_dir, class_dir, additional_images):\n",
        "    # Get the count of images in the directory\n",
        "    count = len([name for name in os.listdir(os.path.join(base_directory, class_dir)) if name.endswith('.png')])\n",
        "\n",
        "    directory = os.path.join(base_directory, class_dir)\n",
        "    new_directory = os.path.join(mvp_rotated_dir, class_dir)\n",
        "\n",
        "    # Create the new directory if it doesn't exist\n",
        "    if not os.path.exists(new_directory):\n",
        "        os.makedirs(new_directory)\n",
        "\n",
        "    # Get a list of all .png images in the directory\n",
        "    images = [fn for fn in os.listdir(directory) if fn.endswith('.png')]\n",
        "\n",
        "    # Copy all original images to the new directory\n",
        "    for picture in images:\n",
        "        shutil.copy(os.path.join(directory, picture), os.path.join(new_directory, picture))\n",
        "\n",
        "    # Randomly select images to rotate until we reach the desired count\n",
        "    for i in range(additional_images):\n",
        "        image_name = random.choice(images)\n",
        "\n",
        "        # Open the image file\n",
        "        img = Image.open(os.path.join(directory, image_name))\n",
        "\n",
        "        # Rotate the image by a random degree between 0 and 90\n",
        "        rotation_degree = random.uniform(0, 90)\n",
        "        img_rotated = img.rotate(rotation_degree)\n",
        "\n",
        "        # Save the rotated image with a new name in the new directory\n",
        "        base_name, ext = os.path.splitext(image_name)\n",
        "        new_image_name = f'{base_name}_rotated_{count+i}{ext}'\n",
        "        img_rotated.save(os.path.join(new_directory, new_image_name))\n",
        "\n",
        "# Your main directory and new base directory\n",
        "base_directory = '/content/drive/My Drive/Capstone/pictures_grouped'\n",
        "mvp_rotated_dir = '/content/drive/My Drive/Capstone/rotated_images_mvp'\n",
        "\n"
      ]
    },
    {
      "cell_type": "code",
      "execution_count": 11,
      "metadata": {
        "id": "4mQ4URDigmZ6"
      },
      "outputs": [],
      "source": [
        "# Call the function for each class with the desired number of additional images\n",
        "balance_class(base_directory, mvp_rotated_dir, '5_and_Under', 100)\n",
        "balance_class(base_directory, mvp_rotated_dir, '6_to_18', 600)\n",
        "balance_class(base_directory, mvp_rotated_dir, '18_to_24', 900)\n",
        "balance_class(base_directory, mvp_rotated_dir, '25_to_34', 900)\n",
        "balance_class(base_directory, mvp_rotated_dir, '35_to_44', 858)\n",
        "balance_class(base_directory, mvp_rotated_dir, '45_to_54', 910)\n",
        "balance_class(base_directory, mvp_rotated_dir, '55_to_64', 738)\n",
        "balance_class(base_directory, mvp_rotated_dir, '65_and_older', 1000)\n",
        "\n"
      ]
    },
    {
      "cell_type": "code",
      "execution_count": 12,
      "metadata": {
        "colab": {
          "base_uri": "https://localhost:8080/"
        },
        "id": "Qkb2lVabXLPQ",
        "outputId": "ad77c480-30a7-4ed3-e149-b15f24aa277a"
      },
      "outputs": [
        {
          "name": "stdout",
          "output_type": "stream",
          "text": [
            "5_and_Under: 2412 images\n",
            "6_to_18: 2215 images\n",
            "18_to_24: 1800 images\n",
            "25_to_34: 2236 images\n",
            "35_to_44: 1716 images\n",
            "45_to_54: 1820 images\n",
            "55_to_64: 1476 images\n",
            "65_and_older: 2111 images\n"
          ]
        }
      ],
      "source": [
        "#COUNTS THE NUMBER OF IMAGES IN EACH DIRECTORY TO CONFIRM NUMBER OF IMAGES IN EACH DIRECTORY\n",
        "def count_images_in_subdirs(parent_dir):\n",
        "    # Get a list of all subdirectories in the parent directory\n",
        "    subdirs = [d for d in os.listdir(parent_dir) if os.path.isdir(os.path.join(parent_dir, d))]\n",
        "\n",
        "    for subdir in subdirs:\n",
        "        subdir_path = os.path.join(parent_dir, subdir)\n",
        "        # Get a list of all image files in the subdirectory\n",
        "        image_files = [f for f in os.listdir(subdir_path) if f.endswith(('.png'))]\n",
        "        # Print the number of images\n",
        "        print(f\"{subdir}: {len(image_files)} images\")\n",
        "\n",
        "count_images_in_subdirs('/content/drive/MyDrive/Capstone/rotated_images_mvp')\n"
      ]
    },
    {
      "cell_type": "code",
      "execution_count": 13,
      "metadata": {
        "id": "myLShljCdqYU"
      },
      "outputs": [],
      "source": [
        "def flip_images_in_folder(base_directory, rotated_flipped_mvp, num_images_to_flip_dict):\n",
        "    # Get a list of all subdirectories in the folder\n",
        "    subdirs = [d for d in os.listdir(base_directory) if os.path.isdir(os.path.join(base_directory, d))]\n",
        "\n",
        "    for subdir in subdirs:\n",
        "        subdir_path = os.path.join(base_directory, subdir)\n",
        "        output_subdir_path = os.path.join(rotated_flipped_mvp, subdir)\n",
        "        # Create the output subdirectory if it doesn't exist\n",
        "        if not os.path.exists(output_subdir_path):\n",
        "            os.makedirs(output_subdir_path)\n",
        "        # Get a list of all image file names in the subdirectory\n",
        "        image_files = os.listdir(subdir_path)\n",
        "\n",
        "        # Copy all images to the output directory\n",
        "        for img_file in image_files:\n",
        "            shutil.copy(os.path.join(subdir_path, img_file), os.path.join(output_subdir_path, img_file))\n",
        "\n",
        "        # Randomly select a subset of images to flip\n",
        "        num_images_to_flip = num_images_to_flip_dict.get(subdir, 0)  # Use a default of 0 if the subdir is not in the dict\n",
        "        images_to_flip = random.sample(image_files, min(num_images_to_flip, len(image_files)))  # Don't try to flip more images than exist\n",
        "\n",
        "        for img_file in images_to_flip:\n",
        "            try:\n",
        "                # Read the image file\n",
        "                img = tf.keras.preprocessing.image.load_img(os.path.join(subdir_path, img_file))\n",
        "                # Convert PIL Image to Numpy array\n",
        "                img_array = tf.keras.preprocessing.image.img_to_array(img)\n",
        "                # Flip the image horizontally\n",
        "                flipped_img = tf.image.flip_left_right(img_array)\n",
        "                # Convert Numpy array to PIL Image\n",
        "                flipped_img_pil = tf.keras.preprocessing.image.array_to_img(flipped_img)\n",
        "                # Save the flipped image to the output directory with '_flipped' added to the end of the filename\n",
        "                flipped_img_pil.save(os.path.join(output_subdir_path, os.path.splitext(img_file)[0] + '_flipped' + os.path.splitext(img_file)[1]))\n",
        "            except Exception as e:\n",
        "                print(f\"Error processing file {img_file}: {e}\")"
      ]
    },
    {
      "cell_type": "code",
      "execution_count": 17,
      "metadata": {
        "id": "WUbcXm9Ydqaz"
      },
      "outputs": [],
      "source": [
        "# Define your number of flips for each subdirectory\n",
        "num_images_to_flip_dict = {\n",
        "    '5_and_Under': 200,\n",
        "    '6_to_18': 397,\n",
        "    '18_to_24': 812,\n",
        "    '25_to_34': 376,\n",
        "    '35_to_44': 896,\n",
        "    '45_to_54': 792,\n",
        "    '55_to_64': 1136,\n",
        "    '65_and_older': 501\n",
        "}\n",
        "\n",
        "base_directory= '/content/drive/MyDrive/Capstone/rotated_images_mvp'\n",
        "rotated_flipped_mvp= '/content/drive/MyDrive/Capstone/rotated_flipped_mvp'\n",
        "\n",
        "flip_images_in_folder(base_directory, rotated_flipped_mvp, num_images_to_flip_dict)"
      ]
    },
    {
      "cell_type": "code",
      "execution_count": null,
      "metadata": {
        "colab": {
          "base_uri": "https://localhost:8080/"
        },
        "id": "xxEXyWXCdqdW",
        "outputId": "cca31bb0-6668-4912-8e71-3576980cb0f4"
      },
      "outputs": [
        {
          "name": "stdout",
          "output_type": "stream",
          "text": [
            "5_and_Under: 2612 images\n",
            "6_to_18: 2612 images\n",
            "18_to_24: 2612 images\n",
            "25_to_34: 2612 images\n",
            "35_to_44: 2612 images\n",
            "45_to_54: 2612 images\n",
            "55_to_64: 2612 images\n",
            "65_and_older: 2612 images\n"
          ]
        }
      ],
      "source": [
        "#COUNTS THE NUMBER OF IMAGES IN EACH DIRECTORY TO CONFIRM CLASS BALANCE\n",
        "def count_images_in_subdirs(parent_dir):\n",
        "    # Get a list of all subdirectories in the parent directory\n",
        "    subdirs = [d for d in os.listdir(parent_dir) if os.path.isdir(os.path.join(parent_dir, d))]\n",
        "\n",
        "    for subdir in subdirs:\n",
        "        subdir_path = os.path.join(parent_dir, subdir)\n",
        "        # Get a list of all image files in the subdirectory\n",
        "        image_files = [f for f in os.listdir(subdir_path) if f.endswith(('.png'))]\n",
        "        # Print the number of images\n",
        "        print(f\"{subdir}: {len(image_files)} images\")\n",
        "\n",
        "count_images_in_subdirs('/content/drive/MyDrive/Capstone/rotated_flipped_mvp')\n"
      ]
    },
    {
      "cell_type": "code",
      "execution_count": null,
      "metadata": {
        "id": "YNW_QWa2Tzab"
      },
      "outputs": [],
      "source": []
    }
  ],
  "metadata": {
    "colab": {
      "provenance": []
    },
    "kernelspec": {
      "display_name": "Python 3",
      "name": "python3"
    },
    "language_info": {
      "name": "python"
    }
  },
  "nbformat": 4,
  "nbformat_minor": 0
}
